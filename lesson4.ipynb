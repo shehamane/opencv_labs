{
 "cells": [
  {
   "cell_type": "code",
   "execution_count": 3,
   "outputs": [],
   "source": [
    "import cv2\n",
    "import numpy as np"
   ],
   "metadata": {
    "collapsed": false,
    "pycharm": {
     "name": "#%%\n"
    }
   }
  },
  {
   "cell_type": "code",
   "execution_count": 11,
   "outputs": [
    {
     "ename": "TypeError",
     "evalue": "'tuple' object is not callable",
     "output_type": "error",
     "traceback": [
      "\u001B[0;31m---------------------------------------------------------------------------\u001B[0m",
      "\u001B[0;31mTypeError\u001B[0m                                 Traceback (most recent call last)",
      "\u001B[0;31mTypeError\u001B[0m: 'tuple' object is not callable"
     ]
    },
    {
     "ename": "TypeError",
     "evalue": "'tuple' object is not callable",
     "output_type": "error",
     "traceback": [
      "\u001B[0;31m---------------------------------------------------------------------------\u001B[0m",
      "\u001B[0;31mTypeError\u001B[0m                                 Traceback (most recent call last)",
      "\u001B[0;31mTypeError\u001B[0m: 'tuple' object is not callable"
     ]
    },
    {
     "name": "stderr",
     "output_type": "stream",
     "text": [
      "ERROR:tornado.application:Exception in callback 0\n",
      "Traceback (most recent call last):\n",
      "  File \"/home/kurigohan/miniconda3/envs/cv/lib/python3.9/site-packages/tornado/ioloop.py\", line 741, in _run_callback\n",
      "    ret = callback()\n",
      "TypeError: 'int' object is not callable\n"
     ]
    }
   ],
   "source": [
    "def nothing(x):\n",
    "    pass\n",
    "\n",
    "cap = cv2.VideoCapture('video.mp4')\n",
    "cv2.namedWindow('video')\n",
    "\n",
    "cv2.createTrackbar(\"HL\", \"video\", 0, 180, nothing)\n",
    "cv2.createTrackbar(\"SL\", \"video\", 0, 255, nothing)\n",
    "cv2.createTrackbar(\"VL\", \"video\", 0, 255, nothing)\n",
    "\n",
    "cv2.createTrackbar(\"H\", \"video\", 0, 180, nothing)\n",
    "cv2.createTrackbar(\"S\", \"video\", 0, 255, nothing)\n",
    "cv2.createTrackbar(\"V\", \"video\", 0, 255, nothing)\n",
    "\n",
    "\n",
    "while True:\n",
    "    ret, frame = cap.read()\n",
    "    frame_hsv = cv2.cvtColor(frame, cv2.COLOR_BGR2HSV)\n",
    "\n",
    "    hl = cv2.getTrackbarPos(\"HL\", \"video\")\n",
    "    sl = cv2.getTrackbarPos(\"SL\", \"video\")\n",
    "    vl = cv2.getTrackbarPos(\"VL\", \"video\")\n",
    "\n",
    "    h = cv2.getTrackbarPos(\"H\", \"video\")\n",
    "    s = cv2.getTrackbarPos(\"S\", \"video\")\n",
    "    v = cv2.getTrackbarPos(\"V\", \"video\")\n",
    "\n",
    "    lower = np.array([hl, sl, vl])\n",
    "    upper = np.array([h, s, v])\n",
    "    mask = cv2.inRange(frame_hsv, lower, upper)\n",
    "    res = cv2.bitwise_and(frame, frame, mask=mask)\n",
    "\n",
    "    cv2.imshow('video', frame)\n",
    "    cv2.imshow('mask_video', mask)\n",
    "    cv2.imshow('res', res)\n",
    "    if cv2.waitKey(1) & 0xFF == 27:\n",
    "        break\n",
    "\n",
    "cap.release()\n",
    "cv2.destroyAllWindows()"
   ],
   "metadata": {
    "collapsed": false,
    "pycharm": {
     "name": "#%%\n"
    }
   }
  },
  {
   "cell_type": "code",
   "execution_count": null,
   "outputs": [],
   "source": [],
   "metadata": {
    "collapsed": false,
    "pycharm": {
     "name": "#%%\n"
    }
   }
  }
 ],
 "metadata": {
  "kernelspec": {
   "display_name": "Python 3",
   "language": "python",
   "name": "python3"
  },
  "language_info": {
   "codemirror_mode": {
    "name": "ipython",
    "version": 2
   },
   "file_extension": ".py",
   "mimetype": "text/x-python",
   "name": "python",
   "nbconvert_exporter": "python",
   "pygments_lexer": "ipython2",
   "version": "2.7.6"
  }
 },
 "nbformat": 4,
 "nbformat_minor": 0
}